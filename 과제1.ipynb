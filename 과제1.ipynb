{
 "cells": [
  {
   "cell_type": "markdown",
   "metadata": {},
   "source": [
    "## 문제1\n",
    "  -  a=\"Hello Python\" 문자열을 Slicing과 연결 연산자 (+)를 사용하여 \"Python Hello\"로 변경하시오.\n",
    "   - [주의] a 변수 자체에 \"Python Hello\" 문자열이 저장되어야 함\n",
    "        "
   ]
  },
  {
   "cell_type": "code",
   "execution_count": 6,
   "metadata": {},
   "outputs": [
    {
     "name": "stdout",
     "output_type": "stream",
     "text": [
      "Python Hello\n"
     ]
    }
   ],
   "source": [
    "a = \"Hello Python\"\n",
    "a = a[6:]+ \" \" + a[0:5]\n",
    "print(a)"
   ]
  },
  {
   "cell_type": "markdown",
   "metadata": {},
   "source": [
    " - a 문자열을 슬라이싱을 이용해 순서를 바꿔준다.\n",
    " - a[6:] 은 P부터 문자열 끝까지, a[0:5] 는 H부터 o까지 나타낸다."
   ]
  },
  {
   "cell_type": "markdown",
   "metadata": {},
   "source": [
    "## 문제2\n",
    " - b=\"Hello Python World\" 문자열을 Slicing과 연결 연산자 (+)를 사용하여 \"World Python Hello\"로 변경하시오.\n",
    "    - [주의] b 변수 자체에 \"Python Hello\" 문자열이 저장되어야 함"
   ]
  },
  {
   "cell_type": "code",
   "execution_count": 18,
   "metadata": {
    "scrolled": true
   },
   "outputs": [
    {
     "name": "stdout",
     "output_type": "stream",
     "text": [
      "World Python Hello\n"
     ]
    }
   ],
   "source": [
    "b = \"Hello Python World\"\n",
    "b = b[-5:] + \" \" + b[6:13] + b[0:5]\n",
    "print(b)"
   ]
  },
  {
   "cell_type": "markdown",
   "metadata": {},
   "source": [
    " - 마찬가지로 b문자열을 슬라이싱을 이용해 각 단어 덩어리로 분리할 수 있다.\n",
    " - b[-5:] 처럼 음수값을 이용한 이유는 양수값보다 원소의 위치를 파악하기 쉽기 때문이다."
   ]
  },
  {
   "cell_type": "markdown",
   "metadata": {},
   "source": [
    "## 문제3\n",
    " - c=\"Hello\"를 \"olleH\"로 변경하시오\n",
    "     - [주의] c 변수 자체에 \"olleH\" 문자열이 저장되어야 함"
   ]
  },
  {
   "cell_type": "code",
   "execution_count": 19,
   "metadata": {},
   "outputs": [
    {
     "name": "stdout",
     "output_type": "stream",
     "text": [
      "olleH\n"
     ]
    }
   ],
   "source": [
    "c = \"Hello\"\n",
    "c = c[::-1]\n",
    "print(c)"
   ]
  },
  {
   "cell_type": "markdown",
   "metadata": {},
   "source": [
    "- 이번에는 슬라이싱을 세구간[ : : ]을 이용해, -1만큼 건너뛰어 슬라이싱하는 방법이다.\n",
    "- 음수(-)는 문자열 뒤 -> 앞 으로 처리된다."
   ]
  },
  {
   "cell_type": "markdown",
   "metadata": {},
   "source": [
    "## 문제4\n",
    "- s=\"python\"에 대해 다음 문제를 풀어보시오.\n",
    " 1. s[0], s[0][0], s[0][0][0]은 각각 어떤 값이 나오는지 확인하고 그 이유를 나름대로 설명해 보시오.\n",
    " 2. s[-100], s[100]은 값이 나오는지 에러가 나오는지 확인하고 그 결과에 대한 이유를 나름대로 설명해 보시오.\n",
    " 3. s[-100, 100]은 값이 나오는지 에러가 나오는지 확인하고 그 결과에 대한 이유를 나름대로 설명해 보시오.\n",
    " 4. s[1:-1]의 결과를 확인하고 그 결과에 대한 이유를 정확하게 설명하시오.\n",
    " 5. s[3:-3]의 결과를 확인하고 그 결과에 대한 이유를 정확하게 설명하시오."
   ]
  },
  {
   "cell_type": "code",
   "execution_count": 17,
   "metadata": {},
   "outputs": [
    {
     "name": "stdout",
     "output_type": "stream",
     "text": [
      "p p p\n"
     ]
    }
   ],
   "source": [
    "s = \"python\"\n",
    "print(s[0],s[0][0],s[0][0][0])\n",
    "#print(s[0],s[0][1],s[0][0][1])"
   ]
  },
  {
   "cell_type": "markdown",
   "metadata": {},
   "source": [
    " - s객체는 1차원의 성격을 가지고있지만, 다른 차원(2,3) 객체의 첫번째 원소의 위치를 봤을 때, 각 차원의 첫번째 원소 s[0], s[0][0], s[0][0][0]의 위치는 서로 같다.\n",
    " - s[0][1],s[0][0][1]을 출력해보면 각 인덱스가 참조하는 값이 쓰레기값이기 때문에 오류가 난다는것을 알 수 있다.\n",
    " \n",
    "                                         "
   ]
  },
  {
   "cell_type": "code",
   "execution_count": 15,
   "metadata": {},
   "outputs": [
    {
     "ename": "IndexError",
     "evalue": "string index out of range",
     "output_type": "error",
     "traceback": [
      "\u001b[1;31m---------------------------------------------------------------------------\u001b[0m",
      "\u001b[1;31mIndexError\u001b[0m                                Traceback (most recent call last)",
      "\u001b[1;32m<ipython-input-15-f13804f5f491>\u001b[0m in \u001b[0;36m<module>\u001b[1;34m()\u001b[0m\n\u001b[1;32m----> 1\u001b[1;33m \u001b[0mprint\u001b[0m\u001b[1;33m(\u001b[0m\u001b[0ms\u001b[0m\u001b[1;33m[\u001b[0m\u001b[1;33m-\u001b[0m\u001b[1;36m100\u001b[0m\u001b[1;33m]\u001b[0m\u001b[1;33m,\u001b[0m\u001b[0ms\u001b[0m\u001b[1;33m[\u001b[0m\u001b[1;36m100\u001b[0m\u001b[1;33m]\u001b[0m\u001b[1;33m)\u001b[0m\u001b[1;33m\u001b[0m\u001b[0m\n\u001b[0m",
      "\u001b[1;31mIndexError\u001b[0m: string index out of range"
     ]
    }
   ],
   "source": [
    "print(s[-100],s[100])\n"
   ]
  },
  {
   "cell_type": "markdown",
   "metadata": {},
   "source": [
    "- s[100]은 s값의 101번째 번지에 있는 값을 참조한다는 뜻인데, s는 5번째 번지까지에만 참조할 수 있는 값이 들어있고 그 이후의 번지를 참조한다면 쓰레기값을 가리키기 때문이다. -로도 인덱싱이 가능하기 때문에 -6번째까지는 참조가 가능하지만 그 이후로는 참조할 수 없다.\n",
    "\n",
    "    IndexError: string index out of range 오류구문에서도 알 수 있듯이 100과 -100은 객체s의 string index의 범위를 초과한다."
   ]
  },
  {
   "cell_type": "code",
   "execution_count": 30,
   "metadata": {},
   "outputs": [
    {
     "ename": "TypeError",
     "evalue": "string indices must be integers",
     "output_type": "error",
     "traceback": [
      "\u001b[1;31m---------------------------------------------------------------------------\u001b[0m",
      "\u001b[1;31mTypeError\u001b[0m                                 Traceback (most recent call last)",
      "\u001b[1;32m<ipython-input-30-42241aebb09e>\u001b[0m in \u001b[0;36m<module>\u001b[1;34m()\u001b[0m\n\u001b[1;32m----> 1\u001b[1;33m \u001b[0mprint\u001b[0m\u001b[1;33m(\u001b[0m\u001b[0ms\u001b[0m\u001b[1;33m[\u001b[0m\u001b[1;33m-\u001b[0m\u001b[1;36m100\u001b[0m\u001b[1;33m,\u001b[0m\u001b[1;36m100\u001b[0m\u001b[1;33m]\u001b[0m\u001b[1;33m)\u001b[0m\u001b[1;33m\u001b[0m\u001b[0m\n\u001b[0m",
      "\u001b[1;31mTypeError\u001b[0m: string indices must be integers"
     ]
    }
   ],
   "source": [
    "print(s[-100,100])"
   ]
  },
  {
   "cell_type": "markdown",
   "metadata": {},
   "source": [
    "- TypeError: string indices must be integers 에러구문을 보았을 때, string객체의 index는 integer형이어야 한다는 말을 미루어보아 integer 사이에 콤마를 넣어서 인덱싱할 경우 파이썬은 이것을 integer로 인식하지 않는다. 반드시 integer 형으로 와야하는 index가 될 수 없기 때문에 오류가 발생했다.\n",
    "  \n",
    "  100,100 이 어떤 자료형인지 알아보려고 type함수를 써보았으나, 그 역시 오류가 발생했다. 이 말은 즉, -100,100은 어떠한 자료형이 아니다 라는것을 알수있다."
   ]
  },
  {
   "cell_type": "code",
   "execution_count": 40,
   "metadata": {},
   "outputs": [
    {
     "name": "stdout",
     "output_type": "stream",
     "text": [
      "ytho\n"
     ]
    }
   ],
   "source": [
    "print(s[1:-1])"
   ]
  },
  {
   "cell_type": "markdown",
   "metadata": {},
   "source": [
    "- 문자열을 슬라이싱 할 때, s[시작점:끝점] 의 형태를 따르고, 범위는 시작점~끝점-1 이다. 시작점: 1 = y, 끝점: -1 = o 이기때문에 ytho가 출력된다. s문자열의 마지막 원소인 d의 index는 -1이 아니다."
   ]
  },
  {
   "cell_type": "code",
   "execution_count": 25,
   "metadata": {},
   "outputs": [
    {
     "name": "stdout",
     "output_type": "stream",
     "text": [
      "\n"
     ]
    }
   ],
   "source": [
    "print(s[3:-3])"
   ]
  },
  {
   "cell_type": "markdown",
   "metadata": {},
   "source": [
    "- 시작점: 3 = h, 끝점: -3 = t 즉, 시작점이 끝점보다 뒤에있다. 이러한 경우 슬라이싱되지 않는다. 고로, 어떠한 값도 출력되지 않는다."
   ]
  },
  {
   "cell_type": "markdown",
   "metadata": {},
   "source": [
    "## 문제5\n",
    "   - for문을 활용하여 1부터 100사이의 홀수를 출력하시오."
   ]
  },
  {
   "cell_type": "code",
   "execution_count": 67,
   "metadata": {
    "scrolled": true
   },
   "outputs": [
    {
     "name": "stdout",
     "output_type": "stream",
     "text": [
      "1\n",
      "3\n",
      "5\n",
      "7\n",
      "9\n",
      "11\n",
      "13\n",
      "15\n",
      "17\n",
      "19\n",
      "21\n",
      "23\n",
      "25\n",
      "27\n",
      "29\n",
      "31\n",
      "33\n",
      "35\n",
      "37\n",
      "39\n",
      "41\n",
      "43\n",
      "45\n",
      "47\n",
      "49\n",
      "51\n",
      "53\n",
      "55\n",
      "57\n",
      "59\n",
      "61\n",
      "63\n",
      "65\n",
      "67\n",
      "69\n",
      "71\n",
      "73\n",
      "75\n",
      "77\n",
      "79\n",
      "81\n",
      "83\n",
      "85\n",
      "87\n",
      "89\n",
      "91\n",
      "93\n",
      "95\n",
      "97\n",
      "99\n"
     ]
    }
   ],
   "source": [
    "\n",
    "for i in range(100):\n",
    "    if (i%2) != 0:\n",
    "        print(i)"
   ]
  },
  {
   "cell_type": "markdown",
   "metadata": {},
   "source": [
    "for 반복문을 이용해 i가 2로 나누어 떨어지지 않을 경우(홀수일 경우) i를 출력한다."
   ]
  },
  {
   "cell_type": "markdown",
   "metadata": {},
   "source": [
    "## 문제6\n",
    " - while문을 활용하여 1부터 100사이의 짝수의 합을 계산하여 출력하시오."
   ]
  },
  {
   "cell_type": "code",
   "execution_count": 70,
   "metadata": {},
   "outputs": [
    {
     "name": "stdout",
     "output_type": "stream",
     "text": [
      "2550\n"
     ]
    }
   ],
   "source": [
    "sum =0;\n",
    "n =0;\n",
    "while n<=100:\n",
    "    if n%2 == 0:\n",
    "        sum += n\n",
    "    n+=1\n",
    "print(sum)"
   ]
  },
  {
   "cell_type": "markdown",
   "metadata": {},
   "source": [
    "- while 반복문을 사용하여 조건이 n<=100 일때 실행하게 하고, n이 2로 나누어 떨어지면(짝수이면) sum에 더하는 방식이다.\n",
    "- for 문과는 다르게 n값을 while문 내에서 변화시켜야한다. (n+=1)"
   ]
  },
  {
   "cell_type": "markdown",
   "metadata": {},
   "source": [
    "## 문제7\n",
    " - 사용자로 부터 임의의 정수를 입력받고, 해당 숫자를 역순으로 출력하는 프로그램을 작성하시오."
   ]
  },
  {
   "cell_type": "code",
   "execution_count": 43,
   "metadata": {
    "scrolled": true
   },
   "outputs": [
    {
     "name": "stdout",
     "output_type": "stream",
     "text": [
      "정수 입력 :123235235\n",
      "532532321\n"
     ]
    }
   ],
   "source": [
    "a=int(input(\"정수 입력 :\"))\n",
    "print(str(a)[::-1])"
   ]
  },
  {
   "cell_type": "markdown",
   "metadata": {},
   "source": [
    "- a에 정수형으로 값을 입력받고, a를 문자열로 형변환하여 슬라이싱으로 거꾸로 출력해준다."
   ]
  },
  {
   "cell_type": "markdown",
   "metadata": {},
   "source": [
    "## 문제8\n",
    " - 사용자로 부터 정수를 입력받아서 1부터 그 사이에 존재하는 소수 (Prime number)를 출력하는 파이썬 프로그램을 작성하시오.\n",
    " "
   ]
  },
  {
   "cell_type": "code",
   "execution_count": 81,
   "metadata": {
    "scrolled": true
   },
   "outputs": [
    {
     "name": "stdout",
     "output_type": "stream",
     "text": [
      "정수 입력50\n",
      "2\n",
      "3\n",
      "5\n",
      "7\n",
      "11\n",
      "13\n",
      "17\n",
      "19\n",
      "23\n",
      "29\n",
      "31\n",
      "37\n",
      "41\n",
      "43\n",
      "47\n"
     ]
    }
   ],
   "source": [
    "q=int(input(\"정수 입력\"))\n",
    "a=0;\n",
    "x=1;\n",
    "y=1;\n",
    "for x in range(1,q+1) :\n",
    "    for y in range(1,x+1) :\n",
    "        if x % y ==0:\n",
    "            a+=1;\n",
    "    if(a==2):\n",
    "        print(x)\n",
    "    a=0\n",
    "        \n",
    "        "
   ]
  },
  {
   "cell_type": "markdown",
   "metadata": {},
   "source": [
    "- 약수의 개수인 a를 0으로 초기화, 소수를 찾을 x,y(범위) 를 1로 초기화한다.\n",
    "- q에 정수를 입력받고 1부터 q까지의 숫자를 모두 조사해 약수가 2개 (1,자기자신) 일 경우 x를 출력한다."
   ]
  },
  {
   "cell_type": "markdown",
   "metadata": {},
   "source": [
    "## 문제9\n",
    " - [ACM-ICPC 문제 2439번]\n",
    "  - 별찍기-2"
   ]
  },
  {
   "cell_type": "code",
   "execution_count": 5,
   "metadata": {},
   "outputs": [
    {
     "name": "stdout",
     "output_type": "stream",
     "text": [
      "4\n",
      "   *\n",
      "  **\n",
      " ***\n",
      "****\n"
     ]
    }
   ],
   "source": [
    "N = int(input())\n",
    "l=N-1\n",
    "j=1\n",
    "while l>=0:\n",
    "    print(\" \"*l + '*'*(N-l))\n",
    "    l-=1"
   ]
  },
  {
   "cell_type": "markdown",
   "metadata": {},
   "source": [
    "- N에 int형으로 별의 최대 개수를 입력받고 공백( ) 과 별을 혼합출력하게 해줄 변수l를 (별의 개수-1)로 초기화한다.\n",
    "- while문으로 l값을 변화시켜 반복출력되게 해주는 * 연산자를 이용한다.\n",
    "\n",
    "![1](python_n1_1.jpg)"
   ]
  },
  {
   "cell_type": "markdown",
   "metadata": {},
   "source": [
    "## 문제10\n",
    " - [ACM-ICPC 문제 1924번]\n",
    "  - 2007년"
   ]
  },
  {
   "cell_type": "code",
   "execution_count": 89,
   "metadata": {},
   "outputs": [
    {
     "name": "stdout",
     "output_type": "stream",
     "text": [
      "1 2\n",
      "TUE\n"
     ]
    }
   ],
   "source": [
    "month = [31,28,31,30,31,30,31,31,30,31,30,31]\n",
    "name = ['MON','TUE','WED','THU','FRI','SAT','SUN']\n",
    "sum=0\n",
    "\n",
    "i1,i2 = input().split()\n",
    "x = int(i1)\n",
    "y = int(i2)\n",
    "\n",
    "if 1<=x<=12 and 1<=y<=31 :\n",
    "    for i in range(x-1):\n",
    "        sum = sum + month[i] \n",
    "    k = (sum+y-1)%7\n",
    "\n",
    "    print(name[k])"
   ]
  },
  {
   "cell_type": "markdown",
   "metadata": {},
   "source": [
    "- 각 달의 일수를 리스트[] 형식을 이용해 month에 저장시키고 마찬가지로 리스트형식으로 각 요일의 영문이름을 name에 저장한다.\n",
    "- 2007년 1월 1일은 월요일이므로 1은 MON이며, 각 요일을 1부터 7로 표현할 수 있다. 또한, 요일은 (일수의 총합-1)을 7로 나눈 나머지로 표현 가능하다.\n",
    " ex) 2월 1일은 1월(31) + 1 = 32\n",
    " \n",
    "    (32-1) % 7 = 4 = 목요일 = THU\n",
    "    \n",
    "![2](python_n1_2.jpg)"
   ]
  },
  {
   "cell_type": "markdown",
   "metadata": {},
   "source": [
    "## 문제11\n",
    " - [ACM-ICPC 문제 11720번]\n",
    "  - 숫자의 합"
   ]
  },
  {
   "cell_type": "code",
   "execution_count": 103,
   "metadata": {},
   "outputs": [
    {
     "name": "stdout",
     "output_type": "stream",
     "text": [
      "4\n",
      "3005\n",
      "8\n"
     ]
    }
   ],
   "source": [
    "a=int(input())\n",
    "b=int(input())\n",
    "cnt =1\n",
    "i =10\n",
    "sum =0\n",
    "while (b//i) != 0:\n",
    "    cnt+=1\n",
    "    i*=10\n",
    "if cnt == a:\n",
    "    while cnt>0:\n",
    "        sum = sum + (b// pow(10,cnt-1))\n",
    "        i=1\n",
    "        for i in range(1,9):\n",
    "            if i*pow(10,(cnt-1)) > b:\n",
    "                b = b - ( (i-1) * pow(10,cnt-1) )\n",
    "                break\n",
    "        cnt-=1\n",
    "    print(sum)"
   ]
  },
  {
   "cell_type": "markdown",
   "metadata": {},
   "source": [
    " - 위의 코드는 애초에 b를 int형으로 입력받고 b를 하나의 숫자로 보고 자릿수를 구하고, 가장 큰자리수의 숫자 부터 1의 자리수의 숫자까지 일일히 구하고 sum에 더해주는 식으로 했는데, 너무 어렵게 생각한것인지 백준에서 아예 틀렸다고 처리를 해버렸다. 이것이 문제의 의도가 아닌것을 파악하고 b를 정수형이아닌 문자열로 입력받고, 문자열의 각 항을 int형으로 변환해 result에 더해주는 방법으로 아래와 같이 코딩했다."
   ]
  },
  {
   "cell_type": "code",
   "execution_count": 114,
   "metadata": {},
   "outputs": [
    {
     "name": "stdout",
     "output_type": "stream",
     "text": [
      "5\n",
      "54321\n",
      "15\n"
     ]
    }
   ],
   "source": [
    "a=int(input())\n",
    "b=input()\n",
    "result =0\n",
    "i=0\n",
    "\n",
    "while i < a:\n",
    "    result += int(b[i])\n",
    "    i+=1\n",
    "print(result)"
   ]
  },
  {
   "cell_type": "markdown",
   "metadata": {},
   "source": [
    "- 이처럼 a는 정수형으로 b는 문자형을 입력받고, 반복문을 통해 i를 증가시켜주고 형변환을 통해 b[i] 를 정수형으로 변환 후 result값에 모두 더해준다.\n",
    "\n",
    "\n",
    "![3](python_n1_3.jpg)"
   ]
  },
  {
   "cell_type": "markdown",
   "metadata": {},
   "source": [
    "## 느낀점\n",
    "\n",
    "파이썬을 처음 이렇게 생각하며 문제풀며 다뤄봤는데, 생각보다 편하면서도, 생각보다 불편했다. 그건 내가 아마도 c나 java같은 언어의 환경에 더 익숙해져있기 때문일것이다. 예를들어, for 반복문을 쓰는데도 별것 아닌것 같은 개념인데 기존에 익숙한 c나 java의 방식과 차이가 나니까 전혀다른 개념을 사용하는것같이 생소했다. 또, 문장끝마다 세미콜론을 붙이는 습관부터해서, 나의 자동화되어진 습관때문에 불필요한 작업으로 시간을 보다 더 많이 사용했다. 그래도 11번문제까지 다 풀고나니 python이라는 새로운 환경에 어느정도 적응이 되어진것 같다. 앞으로도 더욱 많은 문제를 풀며 파이썬이라는 언어를 내것으로 만드려는 노력을 하겠다."
   ]
  }
 ],
 "metadata": {
  "kernelspec": {
   "display_name": "Python 3",
   "language": "python",
   "name": "python3"
  }
 },
 "nbformat": 4,
 "nbformat_minor": 2
}
